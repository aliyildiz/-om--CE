{
 "cells": [
  {
   "cell_type": "code",
   "execution_count": 1,
   "metadata": {
    "collapsed": false
   },
   "outputs": [
    {
     "name": "stdout",
     "output_type": "stream",
     "text": [
      "1519369170916\n"
     ]
    }
   ],
   "source": [
    "import time\n",
    "millis=int(round(time.time()*1000))\n",
    "print(millis)"
   ]
  },
  {
   "cell_type": "code",
   "execution_count": 5,
   "metadata": {
    "collapsed": false
   },
   "outputs": [
    {
     "name": "stdout",
     "output_type": "stream",
     "text": [
      "1519369288\n",
      "1519369293\n",
      "5\n"
     ]
    }
   ],
   "source": [
    "import time\n",
    "millis1=int(round(time.time()))\n",
    "print(millis1)\n",
    "time.sleep(5)\n",
    "millis2=int (round(time.time()))\n",
    "print(millis2)\n",
    "print (millis2-millis1)"
   ]
  },
  {
   "cell_type": "code",
   "execution_count": 23,
   "metadata": {
    "collapsed": true
   },
   "outputs": [],
   "source": [
    "def fibo_rec(n):\n",
    "    if(n<1):\n",
    "        return n\n",
    "    else:\n",
    "        return fibo_rec(n-1)+fibo_rec(n-2)"
   ]
  },
  {
   "cell_type": "code",
   "execution_count": 33,
   "metadata": {
    "collapsed": true
   },
   "outputs": [],
   "source": [
    "def fibo_loop(n):\n",
    "    if(n<2):\n",
    "        return n\n",
    "    else:\n",
    "        a=0\n",
    "        b=1\n",
    "        while (n>1):\n",
    "            c=a+b\n",
    "            a=b\n",
    "            b=c\n",
    "            n=n-1\n",
    "    return c"
   ]
  },
  {
   "cell_type": "code",
   "execution_count": 34,
   "metadata": {
    "collapsed": false
   },
   "outputs": [
    {
     "data": {
      "text/plain": [
       "(0, 1, 1, 2, 3, 5)"
      ]
     },
     "execution_count": 34,
     "metadata": {},
     "output_type": "execute_result"
    }
   ],
   "source": [
    "fibo_loop(0),fibo_loop(1),fibo_loop(2),fibo_loop(3),fibo_loop(4),fibo_loop(5),"
   ]
  },
  {
   "cell_type": "code",
   "execution_count": 7,
   "metadata": {
    "collapsed": false
   },
   "outputs": [
    {
     "data": {
      "text/plain": [
       "(0, 1, 1, 2, 3, 5)"
      ]
     },
     "execution_count": 7,
     "metadata": {},
     "output_type": "execute_result"
    }
   ],
   "source": [
    "fibo_rec(0),fibo_rec(1),fibo_rec(2),fibo_rec(3),fibo_rec(4),fibo_rec(5)"
   ]
  },
  {
   "cell_type": "code",
   "execution_count": 35,
   "metadata": {
    "collapsed": false
   },
   "outputs": [
    {
     "name": "stdout",
     "output_type": "stream",
     "text": [
      "0 recursive icin gecen sure :  0 saniye\n",
      "------------------------------------------\n",
      "0 linear icin gecen sure :  0 saniye\n",
      "1 recursive icin gecen sure :  0 saniye\n",
      "------------------------------------------\n",
      "1 linear icin gecen sure :  0 saniye\n",
      "2 recursive icin gecen sure :  0 saniye\n",
      "------------------------------------------\n",
      "2 linear icin gecen sure :  0 saniye\n",
      "3 recursive icin gecen sure :  0 saniye\n",
      "------------------------------------------\n",
      "3 linear icin gecen sure :  0 saniye\n",
      "4 recursive icin gecen sure :  0 saniye\n",
      "------------------------------------------\n",
      "4 linear icin gecen sure :  0 saniye\n",
      "5 recursive icin gecen sure :  0 saniye\n",
      "------------------------------------------\n",
      "5 linear icin gecen sure :  0 saniye\n",
      "6 recursive icin gecen sure :  0 saniye\n",
      "------------------------------------------\n",
      "6 linear icin gecen sure :  0 saniye\n",
      "7 recursive icin gecen sure :  0 saniye\n",
      "------------------------------------------\n",
      "7 linear icin gecen sure :  0 saniye\n",
      "8 recursive icin gecen sure :  0 saniye\n",
      "------------------------------------------\n",
      "8 linear icin gecen sure :  0 saniye\n",
      "9 recursive icin gecen sure :  0 saniye\n",
      "------------------------------------------\n",
      "9 linear icin gecen sure :  0 saniye\n",
      "10 recursive icin gecen sure :  0 saniye\n",
      "------------------------------------------\n",
      "10 linear icin gecen sure :  0 saniye\n",
      "11 recursive icin gecen sure :  0 saniye\n",
      "------------------------------------------\n",
      "11 linear icin gecen sure :  0 saniye\n",
      "12 recursive icin gecen sure :  0 saniye\n",
      "------------------------------------------\n",
      "12 linear icin gecen sure :  0 saniye\n",
      "13 recursive icin gecen sure :  0 saniye\n",
      "------------------------------------------\n",
      "13 linear icin gecen sure :  0 saniye\n",
      "14 recursive icin gecen sure :  0 saniye\n",
      "------------------------------------------\n",
      "14 linear icin gecen sure :  0 saniye\n",
      "15 recursive icin gecen sure :  0 saniye\n",
      "------------------------------------------\n",
      "15 linear icin gecen sure :  0 saniye\n",
      "16 recursive icin gecen sure :  0 saniye\n",
      "------------------------------------------\n",
      "16 linear icin gecen sure :  0 saniye\n",
      "17 recursive icin gecen sure :  0 saniye\n",
      "------------------------------------------\n",
      "17 linear icin gecen sure :  0 saniye\n",
      "18 recursive icin gecen sure :  0 saniye\n",
      "------------------------------------------\n",
      "18 linear icin gecen sure :  0 saniye\n",
      "19 recursive icin gecen sure :  0 saniye\n",
      "------------------------------------------\n",
      "19 linear icin gecen sure :  0 saniye\n",
      "20 recursive icin gecen sure :  0 saniye\n",
      "------------------------------------------\n",
      "20 linear icin gecen sure :  0 saniye\n",
      "21 recursive icin gecen sure :  0 saniye\n",
      "------------------------------------------\n",
      "21 linear icin gecen sure :  0 saniye\n",
      "22 recursive icin gecen sure :  0 saniye\n",
      "------------------------------------------\n",
      "22 linear icin gecen sure :  0 saniye\n",
      "23 recursive icin gecen sure :  0 saniye\n",
      "------------------------------------------\n",
      "23 linear icin gecen sure :  0 saniye\n",
      "24 recursive icin gecen sure :  0 saniye\n",
      "------------------------------------------\n",
      "24 linear icin gecen sure :  0 saniye\n",
      "25 recursive icin gecen sure :  0 saniye\n",
      "------------------------------------------\n",
      "25 linear icin gecen sure :  0 saniye\n",
      "26 recursive icin gecen sure :  0 saniye\n",
      "------------------------------------------\n",
      "26 linear icin gecen sure :  0 saniye\n",
      "27 recursive icin gecen sure :  0 saniye\n",
      "------------------------------------------\n",
      "27 linear icin gecen sure :  0 saniye\n",
      "28 recursive icin gecen sure :  1 saniye\n",
      "------------------------------------------\n",
      "28 linear icin gecen sure :  0 saniye\n",
      "29 recursive icin gecen sure :  1 saniye\n",
      "------------------------------------------\n",
      "29 linear icin gecen sure :  0 saniye\n",
      "30 recursive icin gecen sure :  1 saniye\n",
      "------------------------------------------\n",
      "30 linear icin gecen sure :  0 saniye\n",
      "31 recursive icin gecen sure :  2 saniye\n",
      "------------------------------------------\n",
      "31 linear icin gecen sure :  0 saniye\n",
      "32 recursive icin gecen sure :  2 saniye\n",
      "------------------------------------------\n",
      "32 linear icin gecen sure :  0 saniye\n",
      "33 recursive icin gecen sure :  5 saniye\n",
      "------------------------------------------\n",
      "33 linear icin gecen sure :  0 saniye\n",
      "34 recursive icin gecen sure :  7 saniye\n",
      "------------------------------------------\n",
      "34 linear icin gecen sure :  0 saniye\n",
      "35 recursive icin gecen sure :  11 saniye\n",
      "------------------------------------------\n",
      "35 linear icin gecen sure :  0 saniye\n",
      "36 recursive icin gecen sure :  19 saniye\n",
      "------------------------------------------\n",
      "36 linear icin gecen sure :  0 saniye\n",
      "37 recursive icin gecen sure :  29 saniye\n",
      "------------------------------------------\n",
      "37 linear icin gecen sure :  0 saniye\n",
      "38 recursive icin gecen sure :  47 saniye\n",
      "------------------------------------------\n",
      "38 linear icin gecen sure :  0 saniye\n",
      "39 recursive icin gecen sure :  78 saniye\n",
      "------------------------------------------\n",
      "39 linear icin gecen sure :  0 saniye\n"
     ]
    }
   ],
   "source": [
    "for n in range(40):\n",
    "    time_1=int(round(time.time()))\n",
    "    fibo_rec(n)\n",
    "    time_2=int(round(time.time()))\n",
    "    print(n,\"recursive icin gecen sure : \",time_2-time_1,\"saniye\")\n",
    "    time_1=int(round(time.time()))\n",
    "    fibo_loop(n)\n",
    "    time_2=int(round(time.time()))\n",
    "    print(\"------------------------------------------\")\n",
    "    print(n,\"linear icin gecen sure : \",time_2-time_1,\"saniye\")"
   ]
  },
  {
   "cell_type": "code",
   "execution_count": null,
   "metadata": {
    "collapsed": true
   },
   "outputs": [],
   "source": []
  }
 ],
 "metadata": {
  "anaconda-cloud": {},
  "kernelspec": {
   "display_name": "Python [conda root]",
   "language": "python",
   "name": "conda-root-py"
  },
  "language_info": {
   "codemirror_mode": {
    "name": "ipython",
    "version": 3
   },
   "file_extension": ".py",
   "mimetype": "text/x-python",
   "name": "python",
   "nbconvert_exporter": "python",
   "pygments_lexer": "ipython3",
   "version": "3.5.2"
  }
 },
 "nbformat": 4,
 "nbformat_minor": 1
}
