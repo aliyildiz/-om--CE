{
 "cells": [
  {
   "cell_type": "markdown",
   "metadata": {},
   "source": [
    "# Welcome to Jupyter!"
   ]
  },
  {
   "cell_type": "code",
   "execution_count": 1,
   "metadata": {},
   "outputs": [
    {
     "name": "stdout",
     "output_type": "stream",
     "text": [
      "Creating nxn matrix. Please enter the value of n: 3\n",
      "Our matrix: [[10, 4, 2], [0, 9, 6], [3, 8, 9]]\n",
      "Determinant of Our Matrix: 348\n"
     ]
    }
   ],
   "source": [
    "import random\n",
    "\n",
    "def fillMatrix(i, j):\n",
    "    m = [[random.randint(0, 10) for a in range(i)] for b in range(j)]\n",
    "    return m\n",
    "\n",
    "\n",
    "def getMatrixMinor(matrix, i, j):\n",
    "    return [row[:j] + row[j+1:] for row in (matrix[:i]+matrix[i+1:])]\n",
    "\n",
    "\n",
    "def getDeterminantofMatrix(matrix):\n",
    "    # base case for 2x2 matrix\n",
    "    if len(matrix) == 2:\n",
    "        return matrix[0][0]*matrix[1][1]-matrix[0][1]*matrix[1][0]\n",
    "\n",
    "    det = 0\n",
    "    for i in range(len(matrix)):\n",
    "        det += ((-1)**i)*matrix[0][i]*getDeterminantofMatrix(getMatrixMinor(matrix, 0, i))\n",
    "    return det\n",
    "\n",
    "s = int(input(\"Creating nxn matrix. Please enter the value of n: \"))\n",
    "\n",
    "\n",
    "m = fillMatrix(s, s)\n",
    "\n",
    "print(\"Our matrix: {}\".format(m))\n",
    "print(\"Determinant of Our Matrix: {}\".format(getDeterminantofMatrix(m)))"
   ]
  }
 ],
 "metadata": {
  "kernelspec": {
   "display_name": "Python 3",
   "language": "python",
   "name": "python3"
  },
  "language_info": {
   "codemirror_mode": {
    "name": "ipython",
    "version": 3
   },
   "file_extension": ".py",
   "mimetype": "text/x-python",
   "name": "python",
   "nbconvert_exporter": "python",
   "pygments_lexer": "ipython3",
   "version": "3.6.4"
  }
 },
 "nbformat": 4,
 "nbformat_minor": 2
}
